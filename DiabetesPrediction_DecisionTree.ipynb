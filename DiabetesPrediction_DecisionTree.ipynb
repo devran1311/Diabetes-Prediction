{
 "cells": [
  {
   "cell_type": "code",
   "execution_count": 1,
   "id": "f593e14b",
   "metadata": {},
   "outputs": [],
   "source": [
    "import pandas as pd\n",
    "import numpy as np\n",
    "from sklearn.model_selection import train_test_split\n",
    "from sklearn.tree import DecisionTreeClassifier\n",
    "import itertools"
   ]
  },
  {
   "cell_type": "code",
   "execution_count": 3,
   "id": "567bbf74",
   "metadata": {},
   "outputs": [],
   "source": [
    "df= pd.read_csv(r\"D:\\Personal ML Project\\Diabetes Prediction\\diabetes - Copy - Copy 2.csv\")"
   ]
  },
  {
   "cell_type": "code",
   "execution_count": 4,
   "id": "340cd3bf",
   "metadata": {},
   "outputs": [],
   "source": [
    "df = df.drop(['glyhb','gender','time.ppn'], axis=1)"
   ]
  },
  {
   "cell_type": "code",
   "execution_count": 15,
   "id": "3742c74f",
   "metadata": {},
   "outputs": [
    {
     "data": {
      "text/html": [
       "<div>\n",
       "<style scoped>\n",
       "    .dataframe tbody tr th:only-of-type {\n",
       "        vertical-align: middle;\n",
       "    }\n",
       "\n",
       "    .dataframe tbody tr th {\n",
       "        vertical-align: top;\n",
       "    }\n",
       "\n",
       "    .dataframe thead th {\n",
       "        text-align: right;\n",
       "    }\n",
       "</style>\n",
       "<table border=\"1\" class=\"dataframe\">\n",
       "  <thead>\n",
       "    <tr style=\"text-align: right;\">\n",
       "      <th></th>\n",
       "      <th>chol</th>\n",
       "      <th>stab.glu</th>\n",
       "      <th>hdl</th>\n",
       "      <th>Chl/hdl Ratio</th>\n",
       "      <th>age</th>\n",
       "      <th>height</th>\n",
       "      <th>weight</th>\n",
       "      <th>bp.1s</th>\n",
       "      <th>bp.1d</th>\n",
       "      <th>waist</th>\n",
       "      <th>hip</th>\n",
       "      <th>WHR</th>\n",
       "      <th>DM-2</th>\n",
       "      <th>GenderB</th>\n",
       "    </tr>\n",
       "  </thead>\n",
       "  <tbody>\n",
       "    <tr>\n",
       "      <th>0</th>\n",
       "      <td>189</td>\n",
       "      <td>96</td>\n",
       "      <td>47</td>\n",
       "      <td>4.0</td>\n",
       "      <td>28</td>\n",
       "      <td>64</td>\n",
       "      <td>200</td>\n",
       "      <td>136</td>\n",
       "      <td>52</td>\n",
       "      <td>38</td>\n",
       "      <td>45</td>\n",
       "      <td>0.844444</td>\n",
       "      <td>0</td>\n",
       "      <td>0</td>\n",
       "    </tr>\n",
       "    <tr>\n",
       "      <th>1</th>\n",
       "      <td>185</td>\n",
       "      <td>84</td>\n",
       "      <td>52</td>\n",
       "      <td>3.6</td>\n",
       "      <td>53</td>\n",
       "      <td>61</td>\n",
       "      <td>145</td>\n",
       "      <td>147</td>\n",
       "      <td>72</td>\n",
       "      <td>37</td>\n",
       "      <td>40</td>\n",
       "      <td>0.925000</td>\n",
       "      <td>0</td>\n",
       "      <td>0</td>\n",
       "    </tr>\n",
       "    <tr>\n",
       "      <th>2</th>\n",
       "      <td>206</td>\n",
       "      <td>85</td>\n",
       "      <td>46</td>\n",
       "      <td>4.5</td>\n",
       "      <td>67</td>\n",
       "      <td>67</td>\n",
       "      <td>178</td>\n",
       "      <td>119</td>\n",
       "      <td>68</td>\n",
       "      <td>37</td>\n",
       "      <td>41</td>\n",
       "      <td>0.902439</td>\n",
       "      <td>0</td>\n",
       "      <td>1</td>\n",
       "    </tr>\n",
       "    <tr>\n",
       "      <th>3</th>\n",
       "      <td>218</td>\n",
       "      <td>182</td>\n",
       "      <td>54</td>\n",
       "      <td>4.0</td>\n",
       "      <td>51</td>\n",
       "      <td>67</td>\n",
       "      <td>215</td>\n",
       "      <td>139</td>\n",
       "      <td>69</td>\n",
       "      <td>42</td>\n",
       "      <td>53</td>\n",
       "      <td>0.792453</td>\n",
       "      <td>1</td>\n",
       "      <td>0</td>\n",
       "    </tr>\n",
       "  </tbody>\n",
       "</table>\n",
       "</div>"
      ],
      "text/plain": [
       "   chol  stab.glu  hdl  Chl/hdl Ratio  age  height  weight  bp.1s  bp.1d  \\\n",
       "0   189        96   47            4.0   28      64     200    136     52   \n",
       "1   185        84   52            3.6   53      61     145    147     72   \n",
       "2   206        85   46            4.5   67      67     178    119     68   \n",
       "3   218       182   54            4.0   51      67     215    139     69   \n",
       "\n",
       "   waist  hip       WHR  DM-2  GenderB  \n",
       "0     38   45  0.844444     0        0  \n",
       "1     37   40  0.925000     0        0  \n",
       "2     37   41  0.902439     0        1  \n",
       "3     42   53  0.792453     1        0  "
      ]
     },
     "execution_count": 15,
     "metadata": {},
     "output_type": "execute_result"
    }
   ],
   "source": [
    "df.head(4)"
   ]
  },
  {
   "cell_type": "code",
   "execution_count": 5,
   "id": "48d67296",
   "metadata": {},
   "outputs": [],
   "source": [
    "X = df.drop('DM-2', axis=1)\n",
    "Y = df['DM-2']"
   ]
  },
  {
   "cell_type": "code",
   "execution_count": 6,
   "id": "7c5bcdd1",
   "metadata": {},
   "outputs": [],
   "source": [
    "X_train, X_test, y_train, y_test = train_test_split(X, Y, test_size=0.2, shuffle = True,  random_state = 8)"
   ]
  },
  {
   "cell_type": "code",
   "execution_count": 7,
   "id": "ccb6acf0",
   "metadata": {},
   "outputs": [
    {
     "name": "stdout",
     "output_type": "stream",
     "text": [
      "(248, 13)\n",
      "(248,)\n",
      "(62, 13)\n",
      "(62,)\n"
     ]
    }
   ],
   "source": [
    "print(X_train.shape)\n",
    "print(y_train.shape)\n",
    "print(X_test.shape)\n",
    "print(y_test.shape)"
   ]
  },
  {
   "cell_type": "code",
   "execution_count": 8,
   "id": "9e5fbf50",
   "metadata": {},
   "outputs": [
    {
     "data": {
      "text/plain": [
       "DecisionTreeClassifier()"
      ]
     },
     "execution_count": 8,
     "metadata": {},
     "output_type": "execute_result"
    }
   ],
   "source": [
    "decision_tree_model = DecisionTreeClassifier()\n",
    "decision_tree_model.fit(X_train, y_train)"
   ]
  },
  {
   "cell_type": "code",
   "execution_count": 9,
   "id": "368ded29",
   "metadata": {},
   "outputs": [
    {
     "data": {
      "text/plain": [
       "0.8387096774193549"
      ]
     },
     "execution_count": 9,
     "metadata": {},
     "output_type": "execute_result"
    }
   ],
   "source": [
    "y_pred = decision_tree_model.predict(X_test)\n",
    "decision_tree_model.score(X_test, y_test)"
   ]
  },
  {
   "cell_type": "code",
   "execution_count": 12,
   "id": "61d23608",
   "metadata": {},
   "outputs": [],
   "source": [
    "df1 = pd.read_csv(r\"D:\\Personal ML Project\\Diabetes Prediction\\Book1.csv\")"
   ]
  },
  {
   "cell_type": "code",
   "execution_count": 16,
   "id": "82d022f7",
   "metadata": {},
   "outputs": [],
   "source": [
    "df1 = df1.drop(['glyhb','gender','time.ppn'], axis=1)"
   ]
  },
  {
   "cell_type": "code",
   "execution_count": 17,
   "id": "7fbe81ed",
   "metadata": {},
   "outputs": [
    {
     "data": {
      "text/html": [
       "<div>\n",
       "<style scoped>\n",
       "    .dataframe tbody tr th:only-of-type {\n",
       "        vertical-align: middle;\n",
       "    }\n",
       "\n",
       "    .dataframe tbody tr th {\n",
       "        vertical-align: top;\n",
       "    }\n",
       "\n",
       "    .dataframe thead th {\n",
       "        text-align: right;\n",
       "    }\n",
       "</style>\n",
       "<table border=\"1\" class=\"dataframe\">\n",
       "  <thead>\n",
       "    <tr style=\"text-align: right;\">\n",
       "      <th></th>\n",
       "      <th>chol</th>\n",
       "      <th>stab.glu</th>\n",
       "      <th>hdl</th>\n",
       "      <th>Chl/hdl Ratio</th>\n",
       "      <th>age</th>\n",
       "      <th>height</th>\n",
       "      <th>weight</th>\n",
       "      <th>bp.1s</th>\n",
       "      <th>bp.1d</th>\n",
       "      <th>waist</th>\n",
       "      <th>hip</th>\n",
       "      <th>WHR</th>\n",
       "      <th>DM-2</th>\n",
       "      <th>GenderB</th>\n",
       "    </tr>\n",
       "  </thead>\n",
       "  <tbody>\n",
       "    <tr>\n",
       "      <th>0</th>\n",
       "      <td>203</td>\n",
       "      <td>82</td>\n",
       "      <td>56</td>\n",
       "      <td>3.6</td>\n",
       "      <td>46</td>\n",
       "      <td>62</td>\n",
       "      <td>121</td>\n",
       "      <td>118</td>\n",
       "      <td>59</td>\n",
       "      <td>29</td>\n",
       "      <td>38</td>\n",
       "      <td>0.763158</td>\n",
       "      <td>0</td>\n",
       "      <td>0</td>\n",
       "    </tr>\n",
       "    <tr>\n",
       "      <th>1</th>\n",
       "      <td>165</td>\n",
       "      <td>97</td>\n",
       "      <td>24</td>\n",
       "      <td>6.9</td>\n",
       "      <td>29</td>\n",
       "      <td>64</td>\n",
       "      <td>218</td>\n",
       "      <td>112</td>\n",
       "      <td>68</td>\n",
       "      <td>46</td>\n",
       "      <td>48</td>\n",
       "      <td>0.958333</td>\n",
       "      <td>0</td>\n",
       "      <td>0</td>\n",
       "    </tr>\n",
       "    <tr>\n",
       "      <th>2</th>\n",
       "      <td>228</td>\n",
       "      <td>92</td>\n",
       "      <td>37</td>\n",
       "      <td>6.2</td>\n",
       "      <td>58</td>\n",
       "      <td>61</td>\n",
       "      <td>256</td>\n",
       "      <td>190</td>\n",
       "      <td>92</td>\n",
       "      <td>49</td>\n",
       "      <td>57</td>\n",
       "      <td>0.859649</td>\n",
       "      <td>0</td>\n",
       "      <td>0</td>\n",
       "    </tr>\n",
       "    <tr>\n",
       "      <th>3</th>\n",
       "      <td>78</td>\n",
       "      <td>93</td>\n",
       "      <td>12</td>\n",
       "      <td>6.5</td>\n",
       "      <td>67</td>\n",
       "      <td>67</td>\n",
       "      <td>119</td>\n",
       "      <td>110</td>\n",
       "      <td>50</td>\n",
       "      <td>33</td>\n",
       "      <td>38</td>\n",
       "      <td>0.868421</td>\n",
       "      <td>0</td>\n",
       "      <td>1</td>\n",
       "    </tr>\n",
       "    <tr>\n",
       "      <th>4</th>\n",
       "      <td>249</td>\n",
       "      <td>90</td>\n",
       "      <td>28</td>\n",
       "      <td>8.9</td>\n",
       "      <td>64</td>\n",
       "      <td>68</td>\n",
       "      <td>183</td>\n",
       "      <td>138</td>\n",
       "      <td>80</td>\n",
       "      <td>44</td>\n",
       "      <td>41</td>\n",
       "      <td>1.073171</td>\n",
       "      <td>1</td>\n",
       "      <td>1</td>\n",
       "    </tr>\n",
       "  </tbody>\n",
       "</table>\n",
       "</div>"
      ],
      "text/plain": [
       "   chol  stab.glu  hdl  Chl/hdl Ratio  age  height  weight  bp.1s  bp.1d  \\\n",
       "0   203        82   56            3.6   46      62     121    118     59   \n",
       "1   165        97   24            6.9   29      64     218    112     68   \n",
       "2   228        92   37            6.2   58      61     256    190     92   \n",
       "3    78        93   12            6.5   67      67     119    110     50   \n",
       "4   249        90   28            8.9   64      68     183    138     80   \n",
       "\n",
       "   waist  hip       WHR  DM-2  GenderB  \n",
       "0     29   38  0.763158     0        0  \n",
       "1     46   48  0.958333     0        0  \n",
       "2     49   57  0.859649     0        0  \n",
       "3     33   38  0.868421     0        1  \n",
       "4     44   41  1.073171     1        1  "
      ]
     },
     "execution_count": 17,
     "metadata": {},
     "output_type": "execute_result"
    }
   ],
   "source": [
    "df1.head(5)"
   ]
  },
  {
   "cell_type": "code",
   "execution_count": 18,
   "id": "2f6e0c14",
   "metadata": {},
   "outputs": [],
   "source": [
    "# M = X; N = y\n",
    "M = df1.drop('DM-2', axis=1)\n",
    "N = df1['DM-2']"
   ]
  },
  {
   "cell_type": "code",
   "execution_count": 21,
   "id": "62acf44f",
   "metadata": {},
   "outputs": [],
   "source": [
    "from sklearn.metrics import accuracy_score, classification_report, confusion_matrix, make_scorer, precision_score, recall_score, f1_score, roc_auc_score, roc_curve, precision_recall_curve, average_precision_score, auc"
   ]
  },
  {
   "cell_type": "code",
   "execution_count": 22,
   "id": "25217ae8",
   "metadata": {},
   "outputs": [
    {
     "data": {
      "text/plain": [
       "Text(91.68, 0.5, 'Actual label')"
      ]
     },
     "execution_count": 22,
     "metadata": {},
     "output_type": "execute_result"
    },
    {
     "data": {
      "image/png": "[encoded data removed]",
      "text/plain": [
       "<Figure size 432x288 with 1 Axes>"
      ]
     },
     "metadata": {
      "needs_background": "light"
     },
     "output_type": "display_data"
    }
   ],
   "source": [
    "import seaborn as sns\n",
    "import matplotlib.pyplot as plt\n",
    "%matplotlib inline\n",
    "from sklearn.metrics import confusion_matrix\n",
    "\n",
    "y_pred = decision_tree_model.predict(M) > 0.5\n",
    "mat = confusion_matrix(N, y_pred)\n",
    "labels = ['Legitimate', 'Fraudulent']\n",
    "\n",
    "sns.heatmap(mat, square=True, annot=True, fmt='d', cbar=False, cmap='Blues',\n",
    "            xticklabels=labels, yticklabels=labels)\n",
    "\n",
    "plt.xlabel('Predicted label')\n",
    "plt.ylabel('Actual label')"
   ]
  },
  {
   "cell_type": "code",
   "execution_count": 23,
   "id": "ebc1c43d",
   "metadata": {},
   "outputs": [
    {
     "name": "stdout",
     "output_type": "stream",
     "text": [
      "Accuracy score when nothing is done =  92.10526315789474\n",
      "78.57142857142857\n",
      "78.57142857142857\n",
      "0.7857142857142857\n"
     ]
    }
   ],
   "source": [
    "print(\"Accuracy score when nothing is done = \",accuracy_score(N, y_pred.round())*100)\n",
    "print(precision_score(N, y_pred.round())*100)\n",
    "print(recall_score(N, y_pred.round())*100)\n",
    "print(f1_score(N, y_pred.round()))"
   ]
  },
  {
   "cell_type": "code",
   "execution_count": 25,
   "id": "12f0daad",
   "metadata": {},
   "outputs": [
    {
     "name": "stdout",
     "output_type": "stream",
     "text": [
      "required MCC value =  0.7373271889400922\n"
     ]
    }
   ],
   "source": [
    "from sklearn.metrics import matthews_corrcoef\n",
    "mcc = matthews_corrcoef(N, y_pred)\n",
    "print(\"required MCC value = \",mcc)"
   ]
  },
  {
   "cell_type": "code",
   "execution_count": null,
   "id": "67315c43",
   "metadata": {},
   "outputs": [],
   "source": []
  }
 ],
 "metadata": {
  "kernelspec": {
   "display_name": "Python 3",
   "language": "python",
   "name": "python3"
  },
  "language_info": {
   "codemirror_mode": {
    "name": "ipython",
    "version": 3
   },
   "file_extension": ".py",
   "mimetype": "text/x-python",
   "name": "python",
   "nbconvert_exporter": "python",
   "pygments_lexer": "ipython3",
   "version": "3.8.8"
  }
 },
 "nbformat": 4,
 "nbformat_minor": 5
}
